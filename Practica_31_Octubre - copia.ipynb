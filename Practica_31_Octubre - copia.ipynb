{
 "cells": [
  {
   "cell_type": "markdown",
   "metadata": {},
   "source": [
    "## Ejercicio 1\n",
    "\n",
    "Se trata del último ejercicio del boletín de ejercicios de introducción. El ejercicio constaba de dos partes: la creación de una nueva clase de objetos llamada proyectil y el uso de esa objetos de esa clase dentro de una función llamada aterriza. Por si alguien no consiguió terminar la clase proyectil:\n"
   ]
  },
  {
   "cell_type": "code",
   "execution_count": 14,
   "metadata": {},
   "outputs": [],
   "source": [
    "class proyectil(object):\n",
    "    def __init__(self, x=0, y=0, vx=0, vy=0):\n",
    "        self.x = x\n",
    "        self.y = y\n",
    "        self.vx= vx\n",
    "        self.vy= vy\n",
    "    def obtener_pos_x(self):\n",
    "        return self.x\n",
    "    def obtener_pos_y(self):\n",
    "        return self.y\n",
    "    def actualizar_posicion(self,intervalo):\n",
    "        #Vx se mantiene constante suponiendo que no hay rozamiento por el aire\n",
    "        #Vy se modifica por la gravedad de la tierra 𝑣𝑦1=𝑣𝑦0−9.8×𝑡\n",
    "        #Altura se modifica ℎ1=ℎ0+𝑣𝑚×𝑡, donde  𝑣𝑚  es la media entre las anteriores  𝑣𝑦0  y  𝑣𝑦1 \n",
    "        #Dist se modificará v*t\n",
    "        self.x+=self.vx*intervalo\n",
    "        self.y+=self.vy*intervalo\n",
    "        result=[]\n",
    "        result.append(self.x)\n",
    "        result.append(self.y)\n",
    "        \n",
    "        return result"
   ]
  },
  {
   "cell_type": "code",
   "execution_count": 18,
   "metadata": {},
   "outputs": [
    {
     "data": {
      "text/plain": [
       "5"
      ]
     },
     "execution_count": 18,
     "metadata": {},
     "output_type": "execute_result"
    }
   ],
   "source": [
    "mi_proyectil=proyectil(x=0,y=30,vx=5,vy=8)\n",
    "mi_proyectil.actualizar_posicion(1)[0]"
   ]
  },
  {
   "cell_type": "code",
   "execution_count": 20,
   "metadata": {},
   "outputs": [],
   "source": [
    "def aterriza (altura, velocidad, grados, intervalo):\n",
    "    import math\n",
    "    radianes=(grados*math.pi)/180\n",
    "    v_horizontal=v*math.cos(radianes)\n",
    "    v_vertical=v*math.sin(radianes)\n",
    "\n",
    "    vy0=v_vertical\n",
    "    vy1=vy0-(9.8*t)\n",
    "    h1=self.h+(((vy1+vy0)/2)*t)\n",
    "    result.append(h1)\n",
    "    result.append(vy1)\n",
    "    \n",
    "    mi_proyectil=proyectil(x=0, y=altura, vx=v_horizontal, vy=h1)\n",
    "        \n",
    "    altura_maxima=0\n",
    "    distancia=0\n",
    "    n_intervalos=0\n",
    "    \n",
    "    while y > 0:\n",
    "        cambio_proyectil=mi_proyectil.actualizar_posicion(intervalo)\n",
    "        if y > altura_maxima:\n",
    "            altura_maxima+=y\n",
    "        if x > distancia:\n",
    "            distancia+=cambio_proyectil[0]\n",
    "        n_intervalos+=1\n",
    "        print(\"proyectil en posicion\", cambio_proyectil)\n",
    "        \n",
    "        \n",
    "    print(\"Tras\", n_intervalos, \"intervalos de\", intervalos, \n",
    "          \"segundos (\", intervalos*n_intervalos, \"segundos ) el proyectil ha aterrizado.\")\n",
    "    print(\"Ha recorrido una distancia de\", distancia, \"metros\")\n",
    "    print(\"Ha alcanzado una altura máxima de\", altura_maxima, \"metros\")"
   ]
  },
  {
   "cell_type": "code",
   "execution_count": null,
   "metadata": {},
   "outputs": [],
   "source": [
    "aterriza(30, 1, 20, 0.1)"
   ]
  },
  {
   "cell_type": "markdown",
   "metadata": {},
   "source": [
    "Una vez definida la clase `Proyectil`, se pide definir una función `aterriza` que, dados los datos de `altura`, `velocidad`, `ángulo` e `intervalo`, imprima por pantalla las distintas posiciones por las que pasa un proyectil que se ha disparado con esa `velocidad`, `ángulo` (en grados) y una `altura` inicial. Se mostrará la posición del proyectil en cada `intervalo` de tiempo, hasta que aterriza. Además también debe imprimir la altura máxima que ha alcanzado al final de cada intervalo, cuántos intervalos de tiempo ha tardado en aterrizar y el alcance que ha tenido.\n",
    "\n",
    "Indicaciones:\n",
    "1. Si el proyectil tiene una velocidad inicial $v$ y se lanza con un ángulo $\\theta$, las componentes horizontal y vertical de la velocidad inicial son $v \\times \\cos(\\theta)$ y $v \\times \\sin(\\theta)$, respectivamente.\n",
    "2. La componente horizontal de la velocidad, en ausencia de rozamiento y viento, podemos suponer que permanece constante.\n",
    "3. La componente vertical de la velocidad cambia de la siguiente manera tras un intervalo de tiempo $t$: si $vy_0$ es la velocidad vertical al inicio del intervalo, entonces al final del intervalo tiene una velocidad $vy_1 = vy_0 - 9.8 \\times t$, debido a la gravedad de la Tierra.\n",
    "4. En ese caso, si el proyectil se encuentra a una altura $h_0$, tras un intervalo de tiempo $t$ se encontrará a una altura $h_1 = h_0 + vm  \\times t$, donde $vm$ es la media entre las anteriores $vy_0$ y $vy_1$."
   ]
  },
  {
   "cell_type": "markdown",
   "metadata": {},
   "source": [
    "###### Ejemplo:\n",
    "\n",
    "* `aterriza(30, 1, 20, 0.1)` debe escribir en pantalla:\n",
    "\n",
    "```\n",
    "Proyectil en posición(0.0, 30.0)\n",
    "Proyectil en posición(0.1, 30.0)\n",
    "Proyectil en posición(0.2, 29.9)\n",
    "Proyectil en posición(0.3, 29.7)\n",
    "Proyectil en posición(0.4, 29.4)\n",
    "Proyectil en posición(0.5, 28.9)\n",
    "Proyectil en posición(0.6, 28.4)\n",
    "Proyectil en posición(0.7, 27.8)\n",
    "Proyectil en posición(0.8, 27.1)\n",
    "Proyectil en posición(0.8, 26.3)\n",
    "Proyectil en posición(0.9, 25.4)\n",
    "Proyectil en posición(1.0, 24.4)\n",
    "Proyectil en posición(1.1, 23.4)\n",
    "Proyectil en posición(1.2, 22.2)\n",
    "Proyectil en posición(1.3, 20.9)\n",
    "Proyectil en posición(1.4, 19.5)\n",
    "Proyectil en posición(1.5, 18.0)\n",
    "Proyectil en posición(1.6, 16.4)\n",
    "Proyectil en posición(1.7, 14.7)\n",
    "Proyectil en posición(1.8, 13.0)\n",
    "Proyectil en posición(1.9, 11.1)\n",
    "Proyectil en posición(2.0, 9.1)\n",
    "Proyectil en posición(2.1, 7.0)\n",
    "Proyectil en posición(2.2, 4.9)\n",
    "Proyectil en posición(2.3, 2.6)\n",
    "Proyectil en posición(2.3, 0.2)\n",
    "\n",
    "Tras 26 intervalos de 0.1 segundos (2.6 segundos) el proyectil ha aterrizado.\n",
    "Ha recorrido una distancia de 2.4 metros\n",
    "Ha alcanzado una altura máxima de 30.0 metros\n",
    "```"
   ]
  },
  {
   "cell_type": "code",
   "execution_count": 402,
   "metadata": {},
   "outputs": [],
   "source": [
    "#def aterriza(h,v,angulo,intervalo):\n",
    "#.....\n",
    "    "
   ]
  },
  {
   "cell_type": "markdown",
   "metadata": {},
   "source": [
    "## Ejercicio 2: Instalación de Biopython.\n",
    "\n",
    "Biopython https://biopython.org/ es un conjunto de herramientas de libre acceso para la biología computacional escritas en Python por un equipo internacional de desarrolladores.\n",
    "\n",
    "Se trata de un esfuerzo de colaboración distribuido para desarrollar bibliotecas y aplicaciones en Python que satisfagan las necesidades del trabajo actual y futuro en bioinformática. El código fuente está disponible bajo la Licencia de Biopython, que es extremadamente permisiva y compatible con casi todas las licencias del mundo.\n",
    "\n",
    "En esta práctica se va a aprender a instalar Biopython en un entorno de Anaconda https://www.anaconda.com/\n",
    "Para la próxima clase, Biopython se **dará por instalado y se comenzará directamente con la utilización del mismo.**\n",
    "\n",
    "\n",
    "\n"
   ]
  },
  {
   "cell_type": "markdown",
   "metadata": {},
   "source": [
    "##### Pasos a seguir:\n",
    "* Requisitos: Una instalación de *Anaconda*\n",
    "* Abrir un terminal en Linux o Mac, o bien ejecutar el programa *Anaconda Prompt* en Windows\n",
    "* Crear un nuevo entorno de Python con Biopython llamado *bioinformatics* mediante el comando:\n",
    "    * **conda create -n bioinformatics biopython**\n",
    "* Activar el entorno creado\n",
    "    * **conda activate bioinformatics**\n",
    "* Es necesario volver a instalar jupyter para el entorno creado\n",
    "    * **conda install jupyter**\n",
    "* Iniciar jupyter\n",
    "    * **jupyter notebook**"
   ]
  }
 ],
 "metadata": {
  "kernelspec": {
   "display_name": "Python 3 (ipykernel)",
   "language": "python",
   "name": "python3"
  },
  "language_info": {
   "codemirror_mode": {
    "name": "ipython",
    "version": 3
   },
   "file_extension": ".py",
   "mimetype": "text/x-python",
   "name": "python",
   "nbconvert_exporter": "python",
   "pygments_lexer": "ipython3",
   "version": "3.9.12"
  }
 },
 "nbformat": 4,
 "nbformat_minor": 1
}
